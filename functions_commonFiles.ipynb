{
 "cells": [
  {
   "cell_type": "code",
   "execution_count": null,
   "metadata": {
    "collapsed": true
   },
   "outputs": [],
   "source": [
    "def save_object(obj, filename):\n",
    "    with open(filename, 'wb') as output:  # Overwrites any existing file.\n",
    "        pickle.dump(obj, output, pickle.HIGHEST_PROTOCOL)"
   ]
  },
  {
   "cell_type": "code",
   "execution_count": null,
   "metadata": {
    "collapsed": true
   },
   "outputs": [],
   "source": [
    "def svd_reducedrank(A, k,  flag_bal):\n",
    "    \n",
    "    '''\n",
    "    Decomposes matrix A by svd, performces reduced rank approximation of the rank k\n",
    "    returs characteristic loads vector Lk and magnitudes Uk and reconstruction error\n",
    "    \n",
    "    Will performe load balancing if required\n",
    "    \n",
    "    inputs = [A, k,  flag_bal]\n",
    "    outputs = [Uk, Lk, err_Ak]\n",
    "    \n",
    "    ------\n",
    "    Author: Sriharsha Sheshanarayana sriharsha.sheshn@gmail.com\n",
    "    Date: 03/03/2018  \n",
    "    '''\n",
    "    \n",
    "    #Balacing   \n",
    "    if flag_bal == 1:\n",
    "#         S_bal = np.zeros([4,4])\n",
    "        S_bal = np.zeros([A.shape[1],A.shape[1]])\n",
    "        #compute normal of each coloumn and add it to S_bal diag\n",
    "        S_bal = np.diag(1/np.linalg.norm(A,axis =0))\n",
    "    else:\n",
    "        S_bal = np.identity(A.shape[1])\n",
    "\n",
    "\n",
    "    #Compute reduced rank internal characteristic loads\n",
    "    U, s, VT= np.linalg.svd(np.dot(A,S_bal),full_matrices=1)\n",
    "\n",
    "    if A.shape[0]>=A.shape[1]:\n",
    "        S = np.zeros(A.shape)\n",
    "    else:\n",
    "        S = np.zeros([A.shape[0],A.shape[0]])\n",
    "\n",
    "    S[:A.shape[1],:A.shape[1]] = np.diag(s)\n",
    "\n",
    "    #Reduced rank\n",
    "    Sk = S[:k,:k]\n",
    "    Uk = U[:,:k]\n",
    "    VTk = VT[:k,:]\n",
    "\n",
    "    Lk_b = np.dot(Sk,VTk) #characteristic load\n",
    "    Lk = np.dot(Lk_b,np.linalg.pinv(S_bal))\n",
    "    \n",
    "    #Error in reconstruction\n",
    "    Ak = np.dot(Uk,Lk)\n",
    "    err_Ak = (np.linalg.norm(A-Ak))*100/(np.linalg.norm(A,ord = 'fro'))\n",
    "    \n",
    "    return Uk, Lk, err_Ak"
   ]
  },
  {
   "cell_type": "code",
   "execution_count": null,
   "metadata": {
    "collapsed": true
   },
   "outputs": [],
   "source": [
    "def calculate_intersection_3D(loads,u_pe):\n",
    "    \n",
    "    '''\n",
    "    Retuns intersection of the point with a plane formed by 3 points in a 3D space\n",
    "    Notations used is from wiki https://www.wikiwand.com/en/Line%E2%80%93plane_intersection\n",
    "    \n",
    "    \n",
    "    Inputs\n",
    "    -------\n",
    "    loads: characteristic load cartisian coordinates (array) 3D space\n",
    "    u_pe: envelope points in 3D space\n",
    "    \n",
    "    Outputs\n",
    "    -------\n",
    "    I: array of intersection points \n",
    "    \n",
    "    Dependency\n",
    "    ----------\n",
    "    NA\n",
    "    \n",
    "    Author: Sriharsha Sheshanarayana sriharsha.sheshn@gmail.com\n",
    "    Date: 07/03/2018\n",
    "    \n",
    "    '''\n",
    "    \n",
    "    hull = ConvexHull(u_pe)\n",
    "    I = []\n",
    "    for l_ind in np.arange(loads.shape[0]):\n",
    "        \n",
    "        for ind in hull.simplices:\n",
    "\n",
    "            #Line segment 2 points\n",
    "            la = np.array([[0],[0],[0]])\n",
    "            lb = loads[[l_ind]].T\n",
    "\n",
    "\n",
    "            #plane by 3 points\n",
    "            p0 = u_pe[[ind[0]],:].T\n",
    "            p1 = u_pe[[ind[1]],:].T\n",
    "            p2 = u_pe[[ind[2]],:].T\n",
    "\n",
    "            #assignments\n",
    "            lab = lb - la\n",
    "            p01 = p1 - p0\n",
    "            p02 = p2 - p0\n",
    "\n",
    "            temp_1 = np.hstack([-lab,p01,p02])\n",
    "            temp_2 = la - p0\n",
    "\n",
    "            para = np.dot(np.linalg.pinv(temp_1),temp_2) # parametric values [t,u,v]\n",
    "            \n",
    "            # if the determinant is zero then there is no unique solution i.e line is paralle or on the plane\n",
    "            check_intersection_0 = np.linalg.det(temp_1)\n",
    "\n",
    "            #If the value u+v<1, the point of intersection lies within the triangle formed by p0,p1,p2\n",
    "            check_intersection_1 =  para[1]+para[2]\n",
    "            \n",
    "            #conditons\n",
    "            # t >0: inersection is ahead of the ray \n",
    "            # u,v belongs to [0,1)\n",
    "            # (u+v)<= 1 then the intersection lies within the triangle\n",
    "\n",
    "            if (check_intersection_0 != 0) and (check_intersection_1 <= 1) and (para>=0).all():# and (para[1:]<=1).all():\n",
    "\n",
    "                # intersection point\n",
    "                intersection_p = la+lab*para[0]\n",
    "                \n",
    "        I.append(intersection_p.T)\n",
    "    \n",
    "    #Reshape the array\n",
    "    I = np.asarray(I).reshape([loads.shape[0],3])\n",
    "    return I"
   ]
  },
  {
   "cell_type": "code",
   "execution_count": null,
   "metadata": {
    "collapsed": true
   },
   "outputs": [],
   "source": [
    "def Fast_RF_estimation_3D(Uk,u_pe):\n",
    "    \n",
    "    '''\n",
    "    Retuns critical RF for a set of loads and a performance envelope    \n",
    "    \n",
    "    Inputs\n",
    "    -------\n",
    "    Uk (array): characteristic loads in cartisian coordinates 3D space\n",
    "    u_pe (array): envelope points in 3D space\n",
    "    \n",
    "    Outputs\n",
    "    -------\n",
    "    RF_pe: Critical RFs  \n",
    "    \n",
    "    Dependency\n",
    "    ----------\n",
    "    NA\n",
    "    \n",
    "    Author: Sriharsha Sheshanarayana sriharsha.sheshn@gmail.com\n",
    "    Date: 07/03/2018\n",
    "    '''\n",
    "    I = calculate_intersection_3D(Uk,u_pe)\n",
    "\n",
    "    r_allowable, temp_t,temp_p = cart2sph(I[:,0],I[:,1],I[:,2])\n",
    "    r_actual, temp1_t,temp2_p = cart2sph(Uk[:,0],Uk[:,1],Uk[:,2])\n",
    "\n",
    "    RF_pe = (r_allowable/r_actual).T\n",
    "\n",
    "    return RF_pe,r_allowable"
   ]
  }
 ],
 "metadata": {
  "anaconda-cloud": {},
  "kernelspec": {
   "display_name": "Python 3",
   "language": "python",
   "name": "python3"
  },
  "language_info": {
   "codemirror_mode": {
    "name": "ipython",
    "version": 3
   },
   "file_extension": ".py",
   "mimetype": "text/x-python",
   "name": "python",
   "nbconvert_exporter": "python",
   "pygments_lexer": "ipython3",
   "version": "3.7.3"
  },
  "varInspector": {
   "cols": {
    "lenName": 16,
    "lenType": 16,
    "lenVar": 40
   },
   "kernels_config": {
    "python": {
     "delete_cmd_postfix": "",
     "delete_cmd_prefix": "del ",
     "library": "var_list.py",
     "varRefreshCmd": "print(var_dic_list())"
    },
    "r": {
     "delete_cmd_postfix": ") ",
     "delete_cmd_prefix": "rm(",
     "library": "var_list.r",
     "varRefreshCmd": "cat(var_dic_list()) "
    }
   },
   "types_to_exclude": [
    "module",
    "function",
    "builtin_function_or_method",
    "instance",
    "_Feature"
   ],
   "window_display": false
  }
 },
 "nbformat": 4,
 "nbformat_minor": 2
}
